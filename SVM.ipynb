{
 "cells": [
  {
   "cell_type": "code",
   "execution_count": 1,
   "id": "6e953738-55a3-4f21-a771-05be0656101a",
   "metadata": {},
   "outputs": [],
   "source": [
    "import pandas as pd\n",
    "import numpy as np\n",
    "import matplotlib.pyplot as plt\n",
    "from sklearn.model_selection import train_test_split, GridSearchCV, cross_val_score\n",
    "from sklearn.svm import SVC\n",
    "from sklearn.preprocessing import StandardScaler, LabelEncoder\n",
    "from sklearn.decomposition import PCA\n",
    "from sklearn.metrics import classification_report, confusion_matrix"
   ]
  },
  {
   "cell_type": "code",
   "execution_count": 2,
   "id": "444274b6-3164-4db9-8377-105b8746c704",
   "metadata": {},
   "outputs": [],
   "source": [
    "# Load dataset\n",
    "data = pd.read_csv(\"breast-cancer.csv\")"
   ]
  },
  {
   "cell_type": "code",
   "execution_count": 3,
   "id": "1ba4b026-732c-4853-98a2-67a707b31c4f",
   "metadata": {},
   "outputs": [],
   "source": [
    "# Encode target variable\n",
    "data[\"diagnosis\"] = LabelEncoder().fit_transform(data[\"diagnosis\"])  # M=1, B=0"
   ]
  },
  {
   "cell_type": "code",
   "execution_count": 4,
   "id": "6f40aa8c-af9c-40d1-bd43-e705cd1b1ccd",
   "metadata": {},
   "outputs": [],
   "source": [
    "# Features and labels\n",
    "X = data.drop([\"id\", \"diagnosis\"], axis=1)\n",
    "y = data[\"diagnosis\"]"
   ]
  },
  {
   "cell_type": "code",
   "execution_count": 5,
   "id": "355d58a4-1311-460d-bbd0-b2e21922911b",
   "metadata": {},
   "outputs": [],
   "source": [
    "# Scale features\n",
    "scaler = StandardScaler()\n",
    "X_scaled = scaler.fit_transform(X)"
   ]
  },
  {
   "cell_type": "code",
   "execution_count": 6,
   "id": "42adb367-6e6e-4611-a123-8c14bab5577f",
   "metadata": {},
   "outputs": [],
   "source": [
    "# Split dataset\n",
    "X_train, X_test, y_train, y_test = train_test_split(X_scaled, y, test_size=0.2, random_state=42)"
   ]
  },
  {
   "cell_type": "code",
   "execution_count": 10,
   "id": "deb7e2ae-c186-4dad-842b-810deae68633",
   "metadata": {},
   "outputs": [
    {
     "name": "stdout",
     "output_type": "stream",
     "text": [
      "\n",
      "Linear Kernel Results:\n",
      "              precision    recall  f1-score   support\n",
      "\n",
      "           0       0.97      0.96      0.96        71\n",
      "           1       0.93      0.95      0.94        43\n",
      "\n",
      "    accuracy                           0.96       114\n",
      "   macro avg       0.95      0.96      0.95       114\n",
      "weighted avg       0.96      0.96      0.96       114\n",
      "\n"
     ]
    }
   ],
   "source": [
    "# 1. Train SVM with Linear Kernel\n",
    "linear_svm = SVC(kernel='linear', C=1)\n",
    "linear_svm.fit(X_train, y_train)\n",
    "y_pred_linear = linear_svm.predict(X_test)\n",
    "print(\"\\nLinear Kernel Results:\")\n",
    "print(classification_report(y_test, y_pred_linear))"
   ]
  },
  {
   "cell_type": "code",
   "execution_count": 12,
   "id": "c45ea0d2-f5e7-416f-af0f-cc7a49acfc47",
   "metadata": {},
   "outputs": [
    {
     "name": "stdout",
     "output_type": "stream",
     "text": [
      "\n",
      "RBF Kernel Results:\n",
      "              precision    recall  f1-score   support\n",
      "\n",
      "           0       0.96      0.99      0.97        71\n",
      "           1       0.98      0.93      0.95        43\n",
      "\n",
      "    accuracy                           0.96       114\n",
      "   macro avg       0.97      0.96      0.96       114\n",
      "weighted avg       0.97      0.96      0.96       114\n",
      "\n"
     ]
    }
   ],
   "source": [
    "# 2. Train SVM with RBF Kernel\n",
    "rbf_svm = SVC(kernel='rbf', C=1, gamma=0.01)\n",
    "rbf_svm.fit(X_train, y_train)\n",
    "y_pred_rbf = rbf_svm.predict(X_test)\n",
    "print(\"\\nRBF Kernel Results:\")\n",
    "print(classification_report(y_test, y_pred_rbf))"
   ]
  },
  {
   "cell_type": "code",
   "execution_count": 13,
   "id": "5c13e36c-143a-477f-9806-7e10402529dc",
   "metadata": {},
   "outputs": [
    {
     "name": "stdout",
     "output_type": "stream",
     "text": [
      "\n",
      "Best Parameters: {'C': 10, 'gamma': 0.01, 'kernel': 'rbf'}\n",
      "Best Cross-validation Score: 0.9736263736263737\n"
     ]
    }
   ],
   "source": [
    "# 3. Hyperparameter Tuning with GridSearchCV\n",
    "param_grid = {'C': [0.1, 1, 10], 'gamma': [0.01, 0.001], 'kernel': ['rbf']}\n",
    "grid = GridSearchCV(SVC(), param_grid, refit=True, cv=5)\n",
    "grid.fit(X_train, y_train)\n",
    "print(\"\\nBest Parameters:\", grid.best_params_)\n",
    "print(\"Best Cross-validation Score:\", grid.best_score_)"
   ]
  },
  {
   "cell_type": "code",
   "execution_count": null,
   "id": "7b53c6f3-67e7-4a03-8ee5-41d000d4b5e5",
   "metadata": {},
   "outputs": [],
   "source": []
  }
 ],
 "metadata": {
  "kernelspec": {
   "display_name": "Python 3 (ipykernel)",
   "language": "python",
   "name": "python3"
  },
  "language_info": {
   "codemirror_mode": {
    "name": "ipython",
    "version": 3
   },
   "file_extension": ".py",
   "mimetype": "text/x-python",
   "name": "python",
   "nbconvert_exporter": "python",
   "pygments_lexer": "ipython3",
   "version": "3.13.5"
  }
 },
 "nbformat": 4,
 "nbformat_minor": 5
}
